{
 "cells": [
  {
   "cell_type": "markdown",
   "id": "b1b1c588-87b0-474d-b43d-b29eec19d1b8",
   "metadata": {},
   "source": [
    "![](./img/TheBridge_logo_RGB_color.jpg)"
   ]
  },
  {
   "cell_type": "markdown",
   "id": "7b2dc1a8-502b-4d43-9974-34b304f7727e",
   "metadata": {},
   "source": [
    "![](./img/ejercicios.png) "
   ]
  },
  {
   "cell_type": "markdown",
   "id": "56b32977-fa9e-40e5-a916-5bc6add5be4e",
   "metadata": {},
   "source": [
    "# Markdown Práctica Obligatoria"
   ]
  },
  {
   "cell_type": "markdown",
   "id": "afde8032-0054-482a-a3ee-7332060d06f3",
   "metadata": {},
   "source": [
    "## Ejercicio 1"
   ]
  },
  {
   "cell_type": "markdown",
   "id": "151333a8-f577-4aed-80bd-5315d7289fd4",
   "metadata": {},
   "source": [
    "### Lo más importante"
   ]
  },
  {
   "cell_type": "markdown",
   "id": "daf13749-3275-4fc0-94af-573680ae09d0",
   "metadata": {},
   "source": [
    "* Matemáticas\n",
    "* Python\n",
    "* SQL"
   ]
  },
  {
   "cell_type": "markdown",
   "id": "b49b8d98-7174-4889-bbfb-31e4c4a2067d",
   "metadata": {},
   "source": [
    "![](./img/python.png)"
   ]
  },
  {
   "cell_type": "markdown",
   "id": "357dd5c2-6ac2-4db8-a5c5-59d606dc485f",
   "metadata": {},
   "source": [
    "Otro tema importante es el de *Business Intelligence*"
   ]
  },
  {
   "cell_type": "markdown",
   "id": "109d9c71-0b9d-475f-8e62-450caf4bc596",
   "metadata": {},
   "source": [
    "Si tienes dudas, puedes escribirme a: [alberto.romero@thebridgeschool.es](alberto.romero@thebridgeschool.es)"
   ]
  },
  {
   "cell_type": "markdown",
   "id": "544f780d-4bff-4037-bd0f-82c8c8216d96",
   "metadata": {},
   "source": [
    "Y en esta página se aprende mucho de machine learning: [página con ML](https://www.kaggle.com/)"
   ]
  },
  {
   "cell_type": "markdown",
   "id": "cefd9872-81ae-4d2c-957d-47082a9e0cc1",
   "metadata": {},
   "source": [
    "## Ejercicio2"
   ]
  },
  {
   "cell_type": "markdown",
   "id": "86c8db7a-c440-4f87-ae46-946aa4e882ec",
   "metadata": {},
   "source": [
    "\n",
    "\n",
    "| Ramp up  |Data Analysis|Machine Learning|Data & Business|\n",
    "|----------|:-----------:|---------------:|--------------:|\n",
    "| Python   |  EDA        | Supervised     |Productivización|\n",
    "| Estadística|   R   |   Non supervised |Storytelling|\n",
    "| SQL | Feat. Eng | Deep learning |API|"
   ]
  },
  {
   "cell_type": "markdown",
   "id": "7e3b42a6-8d90-44ff-847c-0e4692553970",
   "metadata": {},
   "source": [
    "$\\sqrt{3x-1} + (1-x^2)$ "
   ]
  },
  {
   "cell_type": "markdown",
   "id": "2b331019-c81c-4344-9592-3c75face26b8",
   "metadata": {},
   "source": [
    "Type Markdown and LaTex: ${\\alpha^2}$"
   ]
  }
 ],
 "metadata": {
  "kernelspec": {
   "display_name": "Python 3 (ipykernel)",
   "language": "python",
   "name": "python3"
  },
  "language_info": {
   "codemirror_mode": {
    "name": "ipython",
    "version": 3
   },
   "file_extension": ".py",
   "mimetype": "text/x-python",
   "name": "python",
   "nbconvert_exporter": "python",
   "pygments_lexer": "ipython3",
   "version": "3.10.11"
  }
 },
 "nbformat": 4,
 "nbformat_minor": 5
}

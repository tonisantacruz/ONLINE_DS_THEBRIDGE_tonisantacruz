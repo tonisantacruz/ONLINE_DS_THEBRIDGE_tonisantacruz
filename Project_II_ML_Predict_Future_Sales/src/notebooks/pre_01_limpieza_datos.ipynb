{
 "cells": [
  {
   "cell_type": "code",
   "execution_count": 1,
   "metadata": {},
   "outputs": [],
   "source": [
    "import pandas as pd"
   ]
  },
  {
   "cell_type": "code",
   "execution_count": 2,
   "metadata": {},
   "outputs": [],
   "source": [
    "ruta = '../data/sales_train_english.csv'\n"
   ]
  },
  {
   "cell_type": "code",
   "execution_count": 3,
   "metadata": {},
   "outputs": [],
   "source": [
    "df_sales = pd.read_csv(ruta)\n"
   ]
  },
  {
   "cell_type": "code",
   "execution_count": 4,
   "metadata": {},
   "outputs": [],
   "source": [
    "# 1. Eliminar precios negativos\n",
    "df_sales = df_sales[df_sales['item_price'] >= 0]"
   ]
  },
  {
   "cell_type": "code",
   "execution_count": 5,
   "metadata": {},
   "outputs": [],
   "source": [
    "# 2. Eliminar cantidades negativas o excesivas\n",
    "df_sales = df_sales[(df_sales['item_cnt_day'] >= 0) & (df_sales['item_cnt_day'] <= 1000)]"
   ]
  },
  {
   "cell_type": "code",
   "execution_count": 6,
   "metadata": {},
   "outputs": [],
   "source": [
    "# 3. Eliminar duplicados exactos (todas las columnas iguales)\n",
    "df_sales = df_sales.drop_duplicates()"
   ]
  },
  {
   "cell_type": "code",
   "execution_count": 7,
   "metadata": {},
   "outputs": [
    {
     "name": "stdout",
     "output_type": "stream",
     "text": [
      "Dataset limpio:\n",
      "(2928485, 6)\n",
      "       date_block_num       shop_id       item_id    item_price  item_cnt_day\n",
      "count    2.928485e+06  2.928485e+06  2.928485e+06  2.928485e+06  2.928485e+06\n",
      "mean     1.456976e+01  3.300294e+01  1.020028e+04  8.894673e+02  1.247598e+00\n",
      "std      9.422951e+00  1.622543e+01  6.324392e+03  1.727500e+03  2.292948e+00\n",
      "min      0.000000e+00  0.000000e+00  0.000000e+00  7.000000e-02  1.000000e+00\n",
      "25%      7.000000e+00  2.200000e+01  4.477000e+03  2.490000e+02  1.000000e+00\n",
      "50%      1.400000e+01  3.100000e+01  9.355000e+03  3.990000e+02  1.000000e+00\n",
      "75%      2.300000e+01  4.700000e+01  1.569100e+04  9.990000e+02  1.000000e+00\n",
      "max      3.300000e+01  5.900000e+01  2.216900e+04  3.079800e+05  1.000000e+03\n"
     ]
    }
   ],
   "source": [
    "# Verificar resultados\n",
    "print(\"Dataset limpio:\")\n",
    "print(df_sales.shape)\n",
    "print(df_sales.describe())"
   ]
  },
  {
   "cell_type": "code",
   "execution_count": 8,
   "metadata": {},
   "outputs": [],
   "source": [
    "df_sales.to_csv('../data/sales_clean.csv', index=False)"
   ]
  }
 ],
 "metadata": {
  "kernelspec": {
   "display_name": "Python 3",
   "language": "python",
   "name": "python3"
  },
  "language_info": {
   "codemirror_mode": {
    "name": "ipython",
    "version": 3
   },
   "file_extension": ".py",
   "mimetype": "text/x-python",
   "name": "python",
   "nbconvert_exporter": "python",
   "pygments_lexer": "ipython3",
   "version": "3.10.11"
  }
 },
 "nbformat": 4,
 "nbformat_minor": 2
}

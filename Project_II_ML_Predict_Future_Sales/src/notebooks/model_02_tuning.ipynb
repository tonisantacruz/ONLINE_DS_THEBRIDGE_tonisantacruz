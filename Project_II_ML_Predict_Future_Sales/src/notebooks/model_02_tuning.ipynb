{
 "cells": [
  {
   "cell_type": "code",
   "execution_count": 1,
   "metadata": {},
   "outputs": [],
   "source": [
    "import pandas as pd\n",
    "from xgboost import XGBRegressor\n",
    "from sklearn.model_selection import RandomizedSearchCV\n",
    "from sklearn.metrics import mean_squared_error\n",
    "from math import sqrt"
   ]
  },
  {
   "cell_type": "code",
   "execution_count": 2,
   "metadata": {},
   "outputs": [],
   "source": [
    "df = pd.read_csv('../data/matriz_features_lags.csv')"
   ]
  },
  {
   "cell_type": "code",
   "execution_count": 3,
   "metadata": {},
   "outputs": [],
   "source": [
    "df_train = df[df['date_block_num'] < 33]\n",
    "df_val = df[df['date_block_num'] == 33]"
   ]
  },
  {
   "cell_type": "code",
   "execution_count": 4,
   "metadata": {},
   "outputs": [],
   "source": [
    "features = [\n",
    "    'item_id', 'shop_id', 'item_category_id',\n",
    "    'month', 'year',\n",
    "    'item_avg_monthly_sales', 'shop_avg_monthly_sales',\n",
    "    'item_cnt_month_lag_1', 'item_cnt_month_lag_3'\n",
    "]\n",
    "target = 'item_cnt_month'\n",
    "\n",
    "X_train = df_train[features]\n",
    "y_train = df_train[target]"
   ]
  },
  {
   "cell_type": "code",
   "execution_count": 5,
   "metadata": {},
   "outputs": [],
   "source": [
    "#Modelo base\n",
    "xgb = XGBRegressor(objective='reg:squarederror', n_jobs=-1, random_state=42)\n",
    "\n",
    "#Definir búsqueda de hiperparámetros\n",
    "param_dist = {\n",
    "    'n_estimators': [50, 100, 200],\n",
    "    'max_depth': [4, 6, 8, 10],\n",
    "    'learning_rate': [0.01, 0.05, 0.1, 0.3],\n",
    "    'subsample': [0.5, 0.7, 0.9, 1.0],\n",
    "}"
   ]
  },
  {
   "cell_type": "code",
   "execution_count": 6,
   "metadata": {},
   "outputs": [
    {
     "name": "stdout",
     "output_type": "stream",
     "text": [
      "Fitting 3 folds for each of 10 candidates, totalling 30 fits\n",
      "Mejores parámetros encontrados:\n",
      "{'subsample': 0.5, 'n_estimators': 100, 'max_depth': 8, 'learning_rate': 0.05}\n"
     ]
    }
   ],
   "source": [
    "#RandomizedSearch con validación cruzada\n",
    "search = RandomizedSearchCV(\n",
    "    estimator=xgb,\n",
    "    param_distributions=param_dist,\n",
    "    scoring='neg_root_mean_squared_error',\n",
    "    n_iter=10,  #Número combinaciones que probará\n",
    "    cv=3,\n",
    "    verbose=1,\n",
    "    random_state=42,\n",
    "    n_jobs=-1\n",
    ")\n",
    "\n",
    "#Entrenar con train\n",
    "search.fit(X_train, y_train)\n",
    "\n",
    "#Mejor combinación de parámetros\n",
    "print(\"Mejores parámetros encontrados:\")\n",
    "print(search.best_params_)"
   ]
  },
  {
   "cell_type": "code",
   "execution_count": 7,
   "metadata": {},
   "outputs": [
    {
     "name": "stdout",
     "output_type": "stream",
     "text": [
      "RMSE en validación (tuned): 0.8958\n"
     ]
    }
   ],
   "source": [
    "#Modelo con mejores parámetros\n",
    "best_model = search.best_estimator_\n",
    "\n",
    "#Predecir en validación\n",
    "X_val = df_val[features]\n",
    "y_val = df_val[target]\n",
    "y_pred = best_model.predict(X_val)\n",
    "\n",
    "#Calcular RMSE\n",
    "rmse = sqrt(mean_squared_error(y_val, y_pred))\n",
    "print(f'RMSE en validación (tuned): {rmse:.4f}')"
   ]
  },
  {
   "cell_type": "code",
   "execution_count": null,
   "metadata": {},
   "outputs": [],
   "source": []
  },
  {
   "cell_type": "code",
   "execution_count": null,
   "metadata": {},
   "outputs": [],
   "source": []
  },
  {
   "cell_type": "code",
   "execution_count": null,
   "metadata": {},
   "outputs": [],
   "source": []
  },
  {
   "cell_type": "code",
   "execution_count": null,
   "metadata": {},
   "outputs": [],
   "source": []
  },
  {
   "cell_type": "code",
   "execution_count": null,
   "metadata": {},
   "outputs": [],
   "source": []
  },
  {
   "cell_type": "code",
   "execution_count": null,
   "metadata": {},
   "outputs": [],
   "source": []
  },
  {
   "cell_type": "code",
   "execution_count": null,
   "metadata": {},
   "outputs": [],
   "source": []
  }
 ],
 "metadata": {
  "kernelspec": {
   "display_name": "Python 3",
   "language": "python",
   "name": "python3"
  },
  "language_info": {
   "codemirror_mode": {
    "name": "ipython",
    "version": 3
   },
   "file_extension": ".py",
   "mimetype": "text/x-python",
   "name": "python",
   "nbconvert_exporter": "python",
   "pygments_lexer": "ipython3",
   "version": "3.10.11"
  }
 },
 "nbformat": 4,
 "nbformat_minor": 2
}

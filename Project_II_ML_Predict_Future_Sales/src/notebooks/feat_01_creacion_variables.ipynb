{
 "cells": [
  {
   "cell_type": "code",
   "execution_count": 1,
   "metadata": {},
   "outputs": [],
   "source": [
    "import pandas as pd"
   ]
  },
  {
   "cell_type": "code",
   "execution_count": 2,
   "metadata": {},
   "outputs": [],
   "source": [
    "df_matrix = pd.read_csv('../data/matriz_base.csv')\n",
    "df_items = pd.read_csv('../data/items.csv')"
   ]
  },
  {
   "cell_type": "code",
   "execution_count": 3,
   "metadata": {},
   "outputs": [],
   "source": [
    "#Crear columnas mes y año\n",
    "df_matrix['month'] = df_matrix['date_block_num'] % 12\n",
    "df_matrix['year'] = df_matrix['date_block_num'] // 12 + 2013"
   ]
  },
  {
   "cell_type": "code",
   "execution_count": 4,
   "metadata": {},
   "outputs": [],
   "source": [
    "#Añadir cat producto\n",
    "df_matrix = df_matrix.merge(df_items[['item_id', 'item_category_id']], on='item_id', how='left')"
   ]
  },
  {
   "cell_type": "code",
   "execution_count": 5,
   "metadata": {},
   "outputs": [],
   "source": [
    "#Media vntas por producto (histórico)\n",
    "item_avg = df_matrix.groupby('item_id')['item_cnt_month'].mean().rename('item_avg_monthly_sales')\n",
    "df_matrix = df_matrix.merge(item_avg, on='item_id', how='left')"
   ]
  },
  {
   "cell_type": "code",
   "execution_count": 6,
   "metadata": {},
   "outputs": [],
   "source": [
    "#Media ventas por tienda\n",
    "shop_avg = df_matrix.groupby('shop_id')['item_cnt_month'].mean().rename('shop_avg_monthly_sales')\n",
    "df_matrix = df_matrix.merge(shop_avg, on='shop_id', how='left')"
   ]
  },
  {
   "cell_type": "code",
   "execution_count": 7,
   "metadata": {},
   "outputs": [
    {
     "name": "stdout",
     "output_type": "stream",
     "text": [
      "(10884554, 9)\n"
     ]
    },
    {
     "data": {
      "text/html": [
       "<div>\n",
       "<style scoped>\n",
       "    .dataframe tbody tr th:only-of-type {\n",
       "        vertical-align: middle;\n",
       "    }\n",
       "\n",
       "    .dataframe tbody tr th {\n",
       "        vertical-align: top;\n",
       "    }\n",
       "\n",
       "    .dataframe thead th {\n",
       "        text-align: right;\n",
       "    }\n",
       "</style>\n",
       "<table border=\"1\" class=\"dataframe\">\n",
       "  <thead>\n",
       "    <tr style=\"text-align: right;\">\n",
       "      <th></th>\n",
       "      <th>date_block_num</th>\n",
       "      <th>shop_id</th>\n",
       "      <th>item_id</th>\n",
       "      <th>item_cnt_month</th>\n",
       "      <th>month</th>\n",
       "      <th>year</th>\n",
       "      <th>item_avg_monthly_sales</th>\n",
       "      <th>shop_avg_monthly_sales</th>\n",
       "    </tr>\n",
       "  </thead>\n",
       "  <tbody>\n",
       "    <tr>\n",
       "      <th>0</th>\n",
       "      <td>0</td>\n",
       "      <td>59</td>\n",
       "      <td>22154</td>\n",
       "      <td>1.0</td>\n",
       "      <td>0</td>\n",
       "      <td>2013</td>\n",
       "      <td>0.110280</td>\n",
       "      <td>0.198369</td>\n",
       "    </tr>\n",
       "    <tr>\n",
       "      <th>1</th>\n",
       "      <td>0</td>\n",
       "      <td>59</td>\n",
       "      <td>2552</td>\n",
       "      <td>0.0</td>\n",
       "      <td>0</td>\n",
       "      <td>2013</td>\n",
       "      <td>0.025547</td>\n",
       "      <td>0.198369</td>\n",
       "    </tr>\n",
       "    <tr>\n",
       "      <th>2</th>\n",
       "      <td>0</td>\n",
       "      <td>59</td>\n",
       "      <td>2554</td>\n",
       "      <td>0.0</td>\n",
       "      <td>0</td>\n",
       "      <td>2013</td>\n",
       "      <td>0.022222</td>\n",
       "      <td>0.198369</td>\n",
       "    </tr>\n",
       "    <tr>\n",
       "      <th>3</th>\n",
       "      <td>0</td>\n",
       "      <td>59</td>\n",
       "      <td>2555</td>\n",
       "      <td>0.0</td>\n",
       "      <td>0</td>\n",
       "      <td>2013</td>\n",
       "      <td>0.066508</td>\n",
       "      <td>0.198369</td>\n",
       "    </tr>\n",
       "    <tr>\n",
       "      <th>4</th>\n",
       "      <td>0</td>\n",
       "      <td>59</td>\n",
       "      <td>2564</td>\n",
       "      <td>0.0</td>\n",
       "      <td>0</td>\n",
       "      <td>2013</td>\n",
       "      <td>0.058599</td>\n",
       "      <td>0.198369</td>\n",
       "    </tr>\n",
       "  </tbody>\n",
       "</table>\n",
       "</div>"
      ],
      "text/plain": [
       "   date_block_num  shop_id  item_id  item_cnt_month  month  year  \\\n",
       "0               0       59    22154             1.0      0  2013   \n",
       "1               0       59     2552             0.0      0  2013   \n",
       "2               0       59     2554             0.0      0  2013   \n",
       "3               0       59     2555             0.0      0  2013   \n",
       "4               0       59     2564             0.0      0  2013   \n",
       "\n",
       "   item_avg_monthly_sales  shop_avg_monthly_sales  \n",
       "0                0.110280                0.198369  \n",
       "1                0.025547                0.198369  \n",
       "2                0.022222                0.198369  \n",
       "3                0.066508                0.198369  \n",
       "4                0.058599                0.198369  "
      ]
     },
     "execution_count": 7,
     "metadata": {},
     "output_type": "execute_result"
    }
   ],
   "source": [
    "print(df_matrix.shape)\n",
    "df_matrix[['date_block_num', 'shop_id', 'item_id', 'item_cnt_month', 'month', 'year', 'item_avg_monthly_sales', 'shop_avg_monthly_sales']].head()"
   ]
  },
  {
   "cell_type": "code",
   "execution_count": 8,
   "metadata": {},
   "outputs": [],
   "source": [
    "df_matrix.to_csv('../data/matriz_features_basicas.csv', index=False)\n"
   ]
  },
  {
   "cell_type": "code",
   "execution_count": null,
   "metadata": {},
   "outputs": [],
   "source": []
  },
  {
   "cell_type": "code",
   "execution_count": null,
   "metadata": {},
   "outputs": [],
   "source": []
  }
 ],
 "metadata": {
  "kernelspec": {
   "display_name": "Python 3",
   "language": "python",
   "name": "python3"
  },
  "language_info": {
   "codemirror_mode": {
    "name": "ipython",
    "version": 3
   },
   "file_extension": ".py",
   "mimetype": "text/x-python",
   "name": "python",
   "nbconvert_exporter": "python",
   "pygments_lexer": "ipython3",
   "version": "3.10.11"
  }
 },
 "nbformat": 4,
 "nbformat_minor": 2
}
